{
  "cells": [
    {
      "cell_type": "markdown",
      "metadata": {
        "id": "view-in-github",
        "colab_type": "text"
      },
      "source": [
        "<a href=\"https://colab.research.google.com/github/aghareed-mahmoud/Assignments/blob/main/Answers_of_assignments_1.ipynb\" target=\"_parent\"><img src=\"https://colab.research.google.com/assets/colab-badge.svg\" alt=\"Open In Colab\"/></a>"
      ]
    },
    {
      "cell_type": "markdown",
      "metadata": {
        "id": "WNEWD9hoA2Lr"
      },
      "source": [
        "<img src=\"https://i.redd.it/6brfmxf7b8ga1.png\" alt=\"Italian Trulli\">\n"
      ]
    },
    {
      "cell_type": "markdown",
      "metadata": {
        "id": "ev3RXIw1Jas5"
      },
      "source": [
        "### Exercise on data types"
      ]
    },
    {
      "cell_type": "markdown",
      "metadata": {
        "id": "xSe8nXGyJs_j"
      },
      "source": [
        "## <font color='red'>What data type would that be?</font>"
      ]
    },
    {
      "cell_type": "markdown",
      "metadata": {
        "id": "j_-RJr75JlQr"
      },
      "source": [
        "#### x = 5\n",
        "#### print(type(x))"
      ]
    },
    {
      "cell_type": "code",
      "source": [
        "#that would be an integer\n",
        "x = 5\n",
        "print(type(x))"
      ],
      "metadata": {
        "id": "T3SBfagrUASC"
      },
      "execution_count": null,
      "outputs": []
    },
    {
      "cell_type": "markdown",
      "metadata": {
        "id": "9vglOoDPJ5Ou"
      },
      "source": [
        "#### x = \"Hello World\"\n",
        "#### print(type(x))\n"
      ]
    },
    {
      "cell_type": "code",
      "source": [
        "# that would be be a string\n",
        "x = \"Hello World\"\n",
        "print(type(x))"
      ],
      "metadata": {
        "id": "EP0yIMp0UC9o"
      },
      "execution_count": null,
      "outputs": []
    },
    {
      "cell_type": "markdown",
      "metadata": {
        "id": "luhdBZJkKDMT"
      },
      "source": [
        "#### x = 20.5\n",
        "#### print(type(x))"
      ]
    },
    {
      "cell_type": "code",
      "source": [
        "# that would be a float\n",
        "x = 20.5\n",
        "print(type(x))"
      ],
      "metadata": {
        "id": "Wmhh37S5Ujtg"
      },
      "execution_count": null,
      "outputs": []
    },
    {
      "cell_type": "markdown",
      "metadata": {
        "id": "N8OO1mGhKC9u"
      },
      "source": [
        "#### x = [\"apple\", \"banana\", \"cherry\"]\n",
        "#### print(type(x))"
      ]
    },
    {
      "cell_type": "code",
      "source": [
        "# that would be a list of strings\n",
        "x = [\"apple\", \"banana\", \"cherry\"]\n",
        "print(type(x))"
      ],
      "metadata": {
        "id": "fsHzau3VUp--"
      },
      "execution_count": null,
      "outputs": []
    },
    {
      "cell_type": "markdown",
      "metadata": {
        "id": "cvV5m5_FKC2Y"
      },
      "source": [
        "#### x = (\"apple\", \"banana\", \"cherry\")\n",
        "#### print(type(x))"
      ]
    },
    {
      "cell_type": "code",
      "source": [
        "# that would be a tuple\n",
        "x = (\"apple\", \"banana\", \"cherry\")\n",
        "print(type(x))"
      ],
      "metadata": {
        "id": "OvcqeIalUyh2"
      },
      "execution_count": null,
      "outputs": []
    },
    {
      "cell_type": "markdown",
      "metadata": {
        "id": "v6tA1ZLGKSej"
      },
      "source": [
        "#### x = {\"name\" : \"John\", \"age\" : 36}\n",
        "#### print(type(x))"
      ]
    },
    {
      "cell_type": "code",
      "source": [
        "# that would be a dictionary\n",
        "x = {\"name\" : \"John\", \"age\" : 36}\n",
        "print(type(x))"
      ],
      "metadata": {
        "id": "dXbnZzmeU3dd"
      },
      "execution_count": null,
      "outputs": []
    },
    {
      "cell_type": "markdown",
      "metadata": {
        "id": "sWMa3--SKbOz"
      },
      "source": [
        "#### x = True\n",
        "#### print(type(x))"
      ]
    },
    {
      "cell_type": "code",
      "source": [
        "#that would be a boolean\n",
        "x = True\n",
        "print(type(x))"
      ],
      "metadata": {
        "id": "OzGLDKN4VBDB"
      },
      "execution_count": null,
      "outputs": []
    },
    {
      "cell_type": "markdown",
      "metadata": {
        "id": "cV1O8CWnOD_A"
      },
      "source": [
        "## Exercise on Numbers"
      ]
    },
    {
      "cell_type": "markdown",
      "metadata": {
        "id": "66MX7NUrMOj9"
      },
      "source": [
        "#### Insert the correct syntax to convert x into a floating point number.\n",
        "\n"
      ]
    },
    {
      "cell_type": "code",
      "execution_count": null,
      "metadata": {
        "id": "mbA3Hg9WKz4S"
      },
      "outputs": [],
      "source": [
        "# x = 5\n",
        "# x =....(x)\n",
        "# print(x)"
      ]
    },
    {
      "cell_type": "code",
      "source": [
        "x = 5\n",
        "x = float(x)\n",
        "print(x)"
      ],
      "metadata": {
        "colab": {
          "base_uri": "https://localhost:8080/"
        },
        "id": "sUXPpZpRV59a",
        "outputId": "bb341b53-a1a5-40d8-d434-61f075e9b750"
      },
      "execution_count": null,
      "outputs": [
        {
          "output_type": "stream",
          "name": "stdout",
          "text": [
            "5.0\n"
          ]
        }
      ]
    },
    {
      "cell_type": "markdown",
      "metadata": {
        "id": "PfSGwBekMbfe"
      },
      "source": [
        "### Insert the correct syntax to convert x into a integer.\n",
        "\n"
      ]
    },
    {
      "cell_type": "code",
      "execution_count": null,
      "metadata": {
        "id": "4u7ID11XMZ1z"
      },
      "outputs": [],
      "source": [
        "# x = 5.5\n",
        "# x =......(x)\n",
        "# print(x)"
      ]
    },
    {
      "cell_type": "code",
      "source": [
        "x = 5.5\n",
        "x = int(5.5)\n",
        "print(x)"
      ],
      "metadata": {
        "colab": {
          "base_uri": "https://localhost:8080/"
        },
        "id": "Er2T4GQFVvO_",
        "outputId": "525100d2-440d-4dbd-b0d1-0cbe7cc8b5bf"
      },
      "execution_count": null,
      "outputs": [
        {
          "output_type": "stream",
          "name": "stdout",
          "text": [
            "5\n"
          ]
        }
      ]
    },
    {
      "cell_type": "markdown",
      "metadata": {
        "id": "QEHJkfIyOI3l"
      },
      "source": [
        "## Exercise on string"
      ]
    },
    {
      "cell_type": "markdown",
      "metadata": {
        "id": "vxDMzNuZM23J"
      },
      "source": [
        "### Use the `len()` function to print the length of the string.\n",
        "\n"
      ]
    },
    {
      "cell_type": "code",
      "execution_count": null,
      "metadata": {
        "id": "LnECWV7kMwtZ"
      },
      "outputs": [],
      "source": [
        "# x = \"Hello World\"\n",
        "# print(.........)"
      ]
    },
    {
      "cell_type": "code",
      "source": [
        "x = \"Hello World\"\n",
        "print(len(x))"
      ],
      "metadata": {
        "colab": {
          "base_uri": "https://localhost:8080/"
        },
        "id": "nSJ0mwRMcAQr",
        "outputId": "cfa2022f-df15-44c2-aebd-cb68c10db8b6"
      },
      "execution_count": null,
      "outputs": [
        {
          "output_type": "stream",
          "name": "stdout",
          "text": [
            "11\n"
          ]
        }
      ]
    },
    {
      "cell_type": "markdown",
      "metadata": {
        "id": "B3G8CsbwNBzE"
      },
      "source": [
        "### Get the first character of the string txt.\n",
        "\n"
      ]
    },
    {
      "cell_type": "code",
      "execution_count": null,
      "metadata": {
        "id": "i82C_E7IM_N_"
      },
      "outputs": [],
      "source": [
        "# txt = \"Hello World\"\n",
        "# x = .........."
      ]
    },
    {
      "cell_type": "code",
      "source": [
        "txt = \"Hello World\"\n",
        "x = txt[0]\n",
        "print(x)"
      ],
      "metadata": {
        "colab": {
          "base_uri": "https://localhost:8080/"
        },
        "id": "tr14hL_BcJaQ",
        "outputId": "60c2f014-a447-4eef-a9a8-934245afad70"
      },
      "execution_count": null,
      "outputs": [
        {
          "output_type": "stream",
          "name": "stdout",
          "text": [
            "H\n"
          ]
        }
      ]
    },
    {
      "cell_type": "markdown",
      "metadata": {
        "id": "eujFCvXmNKL5"
      },
      "source": [
        "### Get the characters from index 2 to index 4 (llo).\n",
        "\n"
      ]
    },
    {
      "cell_type": "code",
      "execution_count": null,
      "metadata": {
        "id": "Spath1coNHS1"
      },
      "outputs": [],
      "source": [
        "# txt = \"Hello World\"\n",
        "#  x =........"
      ]
    },
    {
      "cell_type": "code",
      "source": [
        "txt = \"Hello World\"\n",
        "x = txt[2 : 5]\n",
        "print(x)"
      ],
      "metadata": {
        "colab": {
          "base_uri": "https://localhost:8080/"
        },
        "id": "EMk77_B4cqn_",
        "outputId": "1a455b0f-5320-4253-fd8e-efe658774ec0"
      },
      "execution_count": null,
      "outputs": [
        {
          "output_type": "stream",
          "name": "stdout",
          "text": [
            "llo\n"
          ]
        }
      ]
    },
    {
      "cell_type": "markdown",
      "metadata": {
        "id": "Rwv-8T_-NmeZ"
      },
      "source": [
        "##### Return the string without any whitespace at the beginning or the end.\n",
        "##### hint ` txt.strip()`\n"
      ]
    },
    {
      "cell_type": "code",
      "execution_count": null,
      "metadata": {
        "id": "pg7InD_MNgBU"
      },
      "outputs": [],
      "source": [
        "# txt = \" Hello World \"\n",
        "# x =.................."
      ]
    },
    {
      "cell_type": "code",
      "source": [
        "txt = \" Hello World \"\n",
        "x = txt.strip(None)\n",
        "print(x)"
      ],
      "metadata": {
        "colab": {
          "base_uri": "https://localhost:8080/"
        },
        "id": "0ZvyDNHLdR94",
        "outputId": "1ffe846c-9439-40e0-b8e4-d7cc17c724d2"
      },
      "execution_count": null,
      "outputs": [
        {
          "output_type": "stream",
          "name": "stdout",
          "text": [
            "Hello World\n"
          ]
        }
      ]
    },
    {
      "cell_type": "markdown",
      "metadata": {
        "id": "gpoiVkmQOSc2"
      },
      "source": [
        "### Convert the value of `txt` to upper case.\n",
        "\n"
      ]
    },
    {
      "cell_type": "code",
      "execution_count": null,
      "metadata": {
        "id": "30sq8_UBOPpH"
      },
      "outputs": [],
      "source": [
        "# txt = \"Hello World\"\n",
        "# txt = ........\n"
      ]
    },
    {
      "cell_type": "code",
      "source": [
        "txt = \"Hello World\"\n",
        "uppercase_txt = txt.upper()\n",
        "print(uppercase_txt)"
      ],
      "metadata": {
        "colab": {
          "base_uri": "https://localhost:8080/"
        },
        "id": "7BIR_uzv5gUk",
        "outputId": "140174eb-8476-417c-e7ce-c69354e759c8"
      },
      "execution_count": null,
      "outputs": [
        {
          "output_type": "stream",
          "name": "stdout",
          "text": [
            "HELLO WORLD\n"
          ]
        }
      ]
    },
    {
      "cell_type": "code",
      "source": [
        "txt = \"Hello World\"\n",
        "uppercase_txt = txt.capitalize()\n",
        "print(uppercase_txt)"
      ],
      "metadata": {
        "colab": {
          "base_uri": "https://localhost:8080/"
        },
        "id": "Du3KnWYRGRJR",
        "outputId": "53faa65c-1e63-44b0-dcfd-3db3aa030432"
      },
      "execution_count": null,
      "outputs": [
        {
          "output_type": "stream",
          "name": "stdout",
          "text": [
            "Hello world\n"
          ]
        }
      ]
    },
    {
      "cell_type": "markdown",
      "metadata": {
        "id": "-UpA2zFdOedr"
      },
      "source": [
        "### Convert the value of `txt` to lower case.\n",
        "\n"
      ]
    },
    {
      "cell_type": "code",
      "execution_count": null,
      "metadata": {
        "id": "eIYJ6Jp2OclU"
      },
      "outputs": [],
      "source": [
        "# txt = \"Hello World\"\n",
        "# txt = .........\n"
      ]
    },
    {
      "cell_type": "code",
      "source": [
        "txt = \"HELLO WORLD\"\n",
        "lowercase_txt = txt.lower()\n",
        "print(lowercase_txt)"
      ],
      "metadata": {
        "colab": {
          "base_uri": "https://localhost:8080/"
        },
        "id": "HDMPUKzA-1Rn",
        "outputId": "1258302c-02f4-41dc-c06d-3d1b995ce350"
      },
      "execution_count": null,
      "outputs": [
        {
          "output_type": "stream",
          "name": "stdout",
          "text": [
            "hello world\n"
          ]
        }
      ]
    },
    {
      "cell_type": "code",
      "source": [
        "txt = \"HELLO WORLD\"\n",
        "lowercase_txt = txt.casefold()\n",
        "print(lowercase_txt)"
      ],
      "metadata": {
        "colab": {
          "base_uri": "https://localhost:8080/"
        },
        "id": "xA8W8J9TFsSm",
        "outputId": "50de6b55-c918-4297-ee51-409f410dbcd0"
      },
      "execution_count": null,
      "outputs": [
        {
          "output_type": "stream",
          "name": "stdout",
          "text": [
            "hello world\n"
          ]
        }
      ]
    },
    {
      "cell_type": "markdown",
      "metadata": {
        "id": "WGC7GEv4Op57"
      },
      "source": [
        "#### Replace the character` H` with a `J`"
      ]
    },
    {
      "cell_type": "code",
      "execution_count": null,
      "metadata": {
        "id": "asaMSta8OuXu"
      },
      "outputs": [],
      "source": [
        "# txt = \"Hello World\"\n",
        "# txt = txt. .......(...,... )"
      ]
    },
    {
      "cell_type": "code",
      "source": [
        "txt = \"Hello World\"\n",
        "new_txt = txt.replace(\"H\", \"J\")\n",
        "print(new_txt)"
      ],
      "metadata": {
        "colab": {
          "base_uri": "https://localhost:8080/"
        },
        "id": "IYB20SFQ_pHI",
        "outputId": "55279c37-0657-4237-e0f4-5a021361d28f"
      },
      "execution_count": null,
      "outputs": [
        {
          "output_type": "stream",
          "name": "stdout",
          "text": [
            "Jello World\n"
          ]
        }
      ]
    },
    {
      "cell_type": "markdown",
      "metadata": {
        "id": "fx_3gDLmO9c5"
      },
      "source": [
        "#### Insert the correct syntax to add a placeholder for the age parameter.\n",
        "\n"
      ]
    },
    {
      "cell_type": "code",
      "execution_count": null,
      "metadata": {
        "id": "pbF00OzXO_pd"
      },
      "outputs": [],
      "source": [
        "# age = 36\n",
        "# txt = f\"My name is John, and I am ......\"\n",
        "# print(txt)"
      ]
    },
    {
      "cell_type": "code",
      "source": [
        "age = 36\n",
        "txt = f\"My name is John, and I am {age} years old\"\n",
        "print(txt)"
      ],
      "metadata": {
        "colab": {
          "base_uri": "https://localhost:8080/"
        },
        "id": "Mp8o4gwKDr08",
        "outputId": "2f932a71-af97-4d39-ace0-b0ab80cc98db"
      },
      "execution_count": null,
      "outputs": [
        {
          "output_type": "stream",
          "name": "stdout",
          "text": [
            "My name is John, and I am 36 years old\n"
          ]
        }
      ]
    },
    {
      "cell_type": "markdown",
      "metadata": {
        "id": "aMfwLHLFQJt5"
      },
      "source": [
        "### Exercise on Booleans"
      ]
    },
    {
      "cell_type": "markdown",
      "metadata": {
        "id": "5LwqGd-4X6fz"
      },
      "source": [
        "The statement below would print a Boolean value, which one?\n",
        "\n"
      ]
    },
    {
      "cell_type": "code",
      "execution_count": null,
      "metadata": {
        "id": "KE6bHyeFXwy_"
      },
      "outputs": [],
      "source": [
        "# print(10 > 9)\n",
        "# True"
      ]
    },
    {
      "cell_type": "markdown",
      "metadata": {
        "id": "5qq9bEvzX8d4"
      },
      "source": [
        "The statement below would print a Boolean value, which one?\n",
        "\n"
      ]
    },
    {
      "cell_type": "code",
      "execution_count": null,
      "metadata": {
        "id": "36MAoCaZX2k9"
      },
      "outputs": [],
      "source": [
        "# print(10 == 9)\n",
        "# False"
      ]
    },
    {
      "cell_type": "markdown",
      "metadata": {
        "id": "I9flckHvYFLD"
      },
      "source": [
        "The statement below would print a Boolean value, which one?\n",
        "\n"
      ]
    },
    {
      "cell_type": "code",
      "execution_count": null,
      "metadata": {
        "id": "vRTYkmrrYDcl"
      },
      "outputs": [],
      "source": [
        "# print(10 < 9)\n",
        "# False\n"
      ]
    },
    {
      "cell_type": "markdown",
      "metadata": {
        "id": "JRDSFOOWA4zY"
      },
      "source": [
        "### <font color='gold'>Exercise-1</font>"
      ]
    },
    {
      "cell_type": "markdown",
      "metadata": {
        "id": "Dx9awHoPBT5a"
      },
      "source": [
        "#### Write a Python program to print the following string in a specific format"
      ]
    },
    {
      "cell_type": "code",
      "execution_count": null,
      "metadata": {
        "id": "gfBPq-8u_zDb"
      },
      "outputs": [],
      "source": [
        "# Twinkle, twinkle, little star,\n",
        "# \tHow I wonder what you are!\n",
        "# \t\tUp above the world so high,\n",
        "# \t\tLike a diamond in the sky.\n",
        "# Twinkle, twinkle, little star,\n",
        "# \tHow I wonder what you are!"
      ]
    },
    {
      "cell_type": "markdown",
      "metadata": {
        "id": "G-u5KbN6B4YA"
      },
      "source": [
        "### <font color='gold'>Exercise-2</font>"
      ]
    },
    {
      "cell_type": "markdown",
      "metadata": {
        "id": "1bEAep2SCDB2"
      },
      "source": [
        "#### Write a Python program that print the user's first and last name and prints them in reverse order with a space between them."
      ]
    },
    {
      "cell_type": "code",
      "source": [
        "def reverse_name():\n",
        "    first_name = input(\"Enter your first name: \")\n",
        "    last_name = input(\"Enter your last name: \")\n",
        "    reversed_name = last_name + \" \" + first_name\n",
        "    print(\"Your name in reverse order is:\", reversed_name)\n",
        "reverse_name()"
      ],
      "metadata": {
        "colab": {
          "base_uri": "https://localhost:8080/"
        },
        "id": "7XeuV-6YVemQ",
        "outputId": "bfcd0d30-79d8-4cdc-8f90-609e9fbdf449"
      },
      "execution_count": 7,
      "outputs": [
        {
          "output_type": "stream",
          "name": "stdout",
          "text": [
            "Enter your first name: Aghareed\n",
            "Enter your last name: Abdallah\n",
            "Your name in reverse order is: Abdallah Aghareed\n"
          ]
        }
      ]
    },
    {
      "cell_type": "markdown",
      "metadata": {
        "id": "VIq-DlzYCjcp"
      },
      "source": [
        "### <font color='gold'>Exercise-3</font>"
      ]
    },
    {
      "cell_type": "markdown",
      "metadata": {
        "id": "W2i_oZiJCg4W"
      },
      "source": [
        "#### Write a Python program that calculates the area of a circle and radius = 1.1"
      ]
    },
    {
      "cell_type": "code",
      "source": [
        "import math\n",
        "\n",
        "def calculate_circle_area(radius):\n",
        "    area = math.pi * (radius ** 2)\n",
        "    return area\n",
        "radius = 1.1\n",
        "circle_area = calculate_circle_area(radius)\n",
        "print(\"The area of the circle is:\", circle_area)"
      ],
      "metadata": {
        "colab": {
          "base_uri": "https://localhost:8080/"
        },
        "id": "tLb3H3XyWeK9",
        "outputId": "4cbd3182-3bc6-465b-f6c9-1cbd758db508"
      },
      "execution_count": 9,
      "outputs": [
        {
          "output_type": "stream",
          "name": "stdout",
          "text": [
            "The area of the circle is: 3.8013271108436504\n"
          ]
        }
      ]
    },
    {
      "cell_type": "markdown",
      "metadata": {
        "id": "3k4J4MTrDTTP"
      },
      "source": [
        "### <font color='gold'>Exercise-4</font>"
      ]
    },
    {
      "cell_type": "markdown",
      "metadata": {
        "id": "bODhD33ADPPZ"
      },
      "source": [
        "#### Write a Python program that accepts a filename from the user and prints the extension of the file."
      ]
    },
    {
      "cell_type": "markdown",
      "metadata": {
        "id": "IjgH1FN-DYQQ"
      },
      "source": [
        "Sample Output:\n",
        "Input the Filename: abc.java                                                                                  \n",
        "The  extension of the file is : 'java'"
      ]
    },
    {
      "cell_type": "code",
      "source": [
        "def get_file_extension(filename):\n",
        "    parts = filename.split('.')\n",
        "\n",
        "    extension = parts[-1]\n",
        "    return extension\n",
        "filename = input(\"Input the Filename: \")\n",
        "file_extension = get_file_extension(filename)\n",
        "print(\"The extension of the file is:\", repr(file_extension))"
      ],
      "metadata": {
        "colab": {
          "base_uri": "https://localhost:8080/"
        },
        "id": "S1_Wi5vpW6ly",
        "outputId": "8fed22e9-fffa-4241-fdb3-f752a6861718"
      },
      "execution_count": 10,
      "outputs": [
        {
          "output_type": "stream",
          "name": "stdout",
          "text": [
            "Input the Filename: abc.java\n",
            "The extension of the file is: 'java'\n"
          ]
        }
      ]
    },
    {
      "cell_type": "markdown",
      "metadata": {
        "id": "hBSeDAHcEGPC"
      },
      "source": [
        "### <font color='gold'>Exercise-5</font>"
      ]
    },
    {
      "cell_type": "markdown",
      "metadata": {
        "id": "gnuQ4Hx2D722"
      },
      "source": [
        "#### Covert from string to list and tuple value =\"Amit\""
      ]
    },
    {
      "cell_type": "code",
      "source": [
        "value = \"Amit\"\n",
        "\n",
        "list_value = list(value)\n",
        "print(\"List:\", list_value)\n",
        "tuple_value = tuple(value)\n",
        "print(\"Tuple:\", tuple_value)\n",
        "\n"
      ],
      "metadata": {
        "colab": {
          "base_uri": "https://localhost:8080/"
        },
        "id": "z73xPNXAXQJj",
        "outputId": "f3a94923-ae75-4742-c2c3-991660b124a3"
      },
      "execution_count": 12,
      "outputs": [
        {
          "output_type": "stream",
          "name": "stdout",
          "text": [
            "List: ['A', 'm', 'i', 't']\n",
            "Tuple: ('A', 'm', 'i', 't')\n"
          ]
        }
      ]
    },
    {
      "cell_type": "markdown",
      "metadata": {
        "id": "OQbk5DiyEosj"
      },
      "source": [
        " ## After that"
      ]
    },
    {
      "cell_type": "markdown",
      "metadata": {
        "id": "40fcwVkKEzUl"
      },
      "source": [
        "### Relace the index 3 in the list"
      ]
    },
    {
      "cell_type": "code",
      "source": [
        "list_value[3] = 'e'\n",
        "\n",
        "print(list_value)"
      ],
      "metadata": {
        "colab": {
          "base_uri": "https://localhost:8080/"
        },
        "id": "kHL31ME3X0gj",
        "outputId": "914bc829-2fc6-46aa-da30-f9e98f9c1388"
      },
      "execution_count": 13,
      "outputs": [
        {
          "output_type": "stream",
          "name": "stdout",
          "text": [
            "['A', 'm', 'i', 'e']\n"
          ]
        }
      ]
    },
    {
      "cell_type": "markdown",
      "metadata": {
        "id": "Ka4ECE3nFBzU"
      },
      "source": [
        " ### Convert the list to string and print the list"
      ]
    },
    {
      "cell_type": "code",
      "source": [
        "string_value = ''.join(list_value)\n",
        "\n",
        "print(string_value)"
      ],
      "metadata": {
        "colab": {
          "base_uri": "https://localhost:8080/"
        },
        "id": "JZn_gGYAYIvf",
        "outputId": "01c35c23-d0d6-41f8-99b6-716d829aac6d"
      },
      "execution_count": 14,
      "outputs": [
        {
          "output_type": "stream",
          "name": "stdout",
          "text": [
            "Amie\n"
          ]
        }
      ]
    },
    {
      "cell_type": "markdown",
      "metadata": {
        "id": "lpeuOl7cFmn4"
      },
      "source": [
        "### <font color='gold'>Exercise-6</font>"
      ]
    },
    {
      "cell_type": "markdown",
      "metadata": {
        "id": "RuREUX33FqQZ"
      },
      "source": [
        "#### Write a Python program to display the first and last colors from the following list.\n",
        "\n"
      ]
    },
    {
      "cell_type": "markdown",
      "metadata": {
        "id": "53ptUyHGFt9I"
      },
      "source": [
        "#### color_list = [\"Red\",\"Green\",\"White\" ,\"Black\"]\n",
        "\n"
      ]
    },
    {
      "cell_type": "markdown",
      "metadata": {
        "id": "Jl5tkntZGH4P"
      },
      "source": [
        "<img src=\"https://www.w3resource.com/w3r_images/python-basic-image-exercise-8.png\" alt=\"Italian Trulli\">\n"
      ]
    },
    {
      "cell_type": "code",
      "source": [
        "color_list = [\"Red\", \"Green\", \"White\", \"Black\"]\n",
        "first_color = color_list[0]\n",
        "last_color = color_list[-1]\n",
        "print(\"First color:\", first_color)\n",
        "print(\"Last color:\", last_color)"
      ],
      "metadata": {
        "colab": {
          "base_uri": "https://localhost:8080/"
        },
        "id": "3dC1hPmiZXR-",
        "outputId": "35c88ab5-74e4-4cf4-e858-6727b4a38cef"
      },
      "execution_count": 15,
      "outputs": [
        {
          "output_type": "stream",
          "name": "stdout",
          "text": [
            "First color: Red\n",
            "Last color: Black\n"
          ]
        }
      ]
    },
    {
      "cell_type": "markdown",
      "metadata": {
        "id": "N7XOS7s1GlYW"
      },
      "source": [
        "## <font color='gold'>Exercise-7</font>"
      ]
    },
    {
      "cell_type": "markdown",
      "metadata": {
        "id": "atL1CkPLGhLS"
      },
      "source": [
        "#### Write a Python program to print the following 'here document'.\n",
        "\n"
      ]
    },
    {
      "cell_type": "code",
      "execution_count": null,
      "metadata": {
        "id": "YcD6QUiSGgq0"
      },
      "outputs": [],
      "source": [
        "#Sample Output:\n",
        "# a string that you \"don't\" have to escape\n",
        "# This\n",
        "# is a  ....... multi-line\n",
        "# heredoc string --------> example"
      ]
    },
    {
      "cell_type": "code",
      "source": [
        "print('''a string that you \"don't\" have to escape\n",
        "This\n",
        "is a  ....... multi-line\n",
        "heredoc string --------> example''')"
      ],
      "metadata": {
        "colab": {
          "base_uri": "https://localhost:8080/"
        },
        "id": "fGbAAgLe8Ucf",
        "outputId": "c028c7b7-807b-4d2a-8980-20fb81888a45"
      },
      "execution_count": 1,
      "outputs": [
        {
          "output_type": "stream",
          "name": "stdout",
          "text": [
            "a string that you \"don't\" have to escape\n",
            "This\n",
            "is a  ....... multi-line\n",
            "heredoc string --------> example\n"
          ]
        }
      ]
    },
    {
      "cell_type": "markdown",
      "metadata": {
        "id": "fUUhCO3Saeuy"
      },
      "source": [
        "## <font color='gold'>Exercise- 8</font>"
      ]
    },
    {
      "cell_type": "markdown",
      "metadata": {
        "id": "D_736VyMZcpE"
      },
      "source": [
        "I need to  check if  link `https://www.google.com/` start with https or not and if the ` aimt4536@gmail.com` end with .com"
      ]
    },
    {
      "cell_type": "code",
      "source": [
        "link = 'https://www.google.com/'\n",
        "if link.startswith('https'):\n",
        "    print(\"The link starts with 'https'\")\n",
        "else:\n",
        "    print(\"The link does not start with 'https'\")\n",
        "\n",
        "email = 'aimt4536@gmail.com'\n",
        "if email.endswith('.com'):\n",
        "    print(\"The email ends with '.com'\")\n",
        "else:\n",
        "    print(\"The email does not end with '.com'\")"
      ],
      "metadata": {
        "colab": {
          "base_uri": "https://localhost:8080/"
        },
        "id": "lNm9-C319KOE",
        "outputId": "9733b158-8bce-4bd1-ea4b-a3d9cff6a828"
      },
      "execution_count": 2,
      "outputs": [
        {
          "output_type": "stream",
          "name": "stdout",
          "text": [
            "The link starts with 'https'\n",
            "The email ends with '.com'\n"
          ]
        }
      ]
    },
    {
      "cell_type": "markdown",
      "metadata": {
        "id": "Mpx-aFeYbnqW"
      },
      "source": [
        "# Thanks ❤"
      ]
    },
    {
      "cell_type": "markdown",
      "metadata": {
        "id": "dO7ga00LbWSq"
      },
      "source": [
        "<img src=\"https://pbs.twimg.com/media/ELwC6EgXYAE8AtN.jpg\" alt=\"Italian Trulli\">\n"
      ]
    },
    {
      "cell_type": "code",
      "execution_count": null,
      "metadata": {
        "id": "hnMq3s6hbmCo"
      },
      "outputs": [],
      "source": []
    }
  ],
  "metadata": {
    "colab": {
      "provenance": [],
      "include_colab_link": true
    },
    "kernelspec": {
      "display_name": "Python 3",
      "name": "python3"
    },
    "language_info": {
      "name": "python"
    }
  },
  "nbformat": 4,
  "nbformat_minor": 0
}