{
  "nbformat": 4,
  "nbformat_minor": 0,
  "metadata": {
    "colab": {
      "provenance": [],
      "include_colab_link": true
    },
    "kernelspec": {
      "name": "python3",
      "display_name": "Python 3"
    },
    "language_info": {
      "name": "python"
    }
  },
  "cells": [
    {
      "cell_type": "markdown",
      "metadata": {
        "id": "view-in-github",
        "colab_type": "text"
      },
      "source": [
        "<a href=\"https://colab.research.google.com/github/aghareed-mahmoud/Assignments/blob/main/Answers_of_Assignment_2.ipynb\" target=\"_parent\"><img src=\"https://colab.research.google.com/assets/colab-badge.svg\" alt=\"Open In Colab\"/></a>"
      ]
    },
    {
      "cell_type": "markdown",
      "source": [
        "1. Write a Python program to add an item to a tuple.\n"
      ],
      "metadata": {
        "id": "PfsxY5hXGTpU"
      }
    },
    {
      "cell_type": "code",
      "source": [
        "thistuple = (\"Data Science\", \"AI\", \"Machine Learning\")\n",
        "thislist= list(thistuple)\n",
        "thislist.append(\"NLP\")\n",
        "thistuple= tuple(thislist)\n",
        "print(thistuple)"
      ],
      "metadata": {
        "id": "E-7l1VjiXoDX"
      },
      "execution_count": null,
      "outputs": []
    },
    {
      "cell_type": "code",
      "source": [
        "T= tuple(('Data Science', 'AI', 'Machine Learning'))\n",
        "this_list= list(T)\n",
        "this_list.append('NLP')\n",
        "T= tuple(this_list)\n",
        "print(T)"
      ],
      "metadata": {
        "id": "H0gDSh88WfzR"
      },
      "execution_count": null,
      "outputs": []
    },
    {
      "cell_type": "code",
      "source": [
        "thistuple = (\"Data Science\", \"AI\", \"Machine Learning\")\n",
        "new_tuple = tuple((\"NLP\", ))\n",
        "thistuple += new_tuple\n",
        "print(thistuple)"
      ],
      "metadata": {
        "id": "xsoGWH2IZZJP"
      },
      "execution_count": null,
      "outputs": []
    },
    {
      "cell_type": "markdown",
      "source": [
        "2. Write a Python program to sum all the items in a list"
      ],
      "metadata": {
        "id": "-0icZQBvGU8A"
      }
    },
    {
      "cell_type": "code",
      "source": [
        "thislist =[100, 200, 300, 400]\n",
        "Sum_of_items = sum(thislist)\n",
        "print(Sum_of_items)"
      ],
      "metadata": {
        "colab": {
          "base_uri": "https://localhost:8080/"
        },
        "id": "I0ed2sYMqrdw",
        "outputId": "36a50b10-82ba-4570-8238-2ff365fea36f"
      },
      "execution_count": null,
      "outputs": [
        {
          "output_type": "stream",
          "name": "stdout",
          "text": [
            "1000\n"
          ]
        }
      ]
    },
    {
      "cell_type": "markdown",
      "source": [
        "3. Write a Python program to multiply all the items in a list"
      ],
      "metadata": {
        "id": "0Wq60BZmGZUQ"
      }
    },
    {
      "cell_type": "code",
      "source": [
        "def multiply_of_numbers(list):\n",
        "    total = 1\n",
        "    for i in list:\n",
        "        total *= i\n",
        "    return total\n",
        "\n",
        "print(multiply_of_numbers([1, 4, 4]))"
      ],
      "metadata": {
        "colab": {
          "base_uri": "https://localhost:8080/"
        },
        "id": "I_eZll6KzHzp",
        "outputId": "ca22fea2-63b4-4d73-e5c3-bf63d258eae0"
      },
      "execution_count": null,
      "outputs": [
        {
          "output_type": "stream",
          "name": "stdout",
          "text": [
            "16\n"
          ]
        }
      ]
    },
    {
      "cell_type": "code",
      "source": [
        "import numpy\n",
        "List= [1, 4, 4]\n",
        "result = numpy.prod(List)\n",
        "print(result)"
      ],
      "metadata": {
        "colab": {
          "base_uri": "https://localhost:8080/"
        },
        "id": "-R6n0VNf0Iy0",
        "outputId": "c740ba15-734d-48d6-83d7-c7d72ea3e774"
      },
      "execution_count": null,
      "outputs": [
        {
          "output_type": "stream",
          "name": "stdout",
          "text": [
            "16\n"
          ]
        }
      ]
    },
    {
      "cell_type": "markdown",
      "source": [
        "4. Write a Python program to get the smallest number from a list."
      ],
      "metadata": {
        "id": "P8PUhwnjGbjs"
      }
    },
    {
      "cell_type": "code",
      "source": [
        "list= [5.5, 5.1, 4.5, 4.4]\n",
        "print(min(list))"
      ],
      "metadata": {
        "colab": {
          "base_uri": "https://localhost:8080/"
        },
        "id": "I7M_iDRk236v",
        "outputId": "c6af82a0-5299-474a-81f3-6ba01fecc913"
      },
      "execution_count": null,
      "outputs": [
        {
          "output_type": "stream",
          "name": "stdout",
          "text": [
            "4.4\n"
          ]
        }
      ]
    },
    {
      "cell_type": "markdown",
      "source": [
        "5. Write a Python program to get the largest number from a list.\n"
      ],
      "metadata": {
        "id": "K649P2ZNGfBx"
      }
    },
    {
      "cell_type": "code",
      "source": [
        "list = [-1, -2, -3]\n",
        "print(min(list))"
      ],
      "metadata": {
        "colab": {
          "base_uri": "https://localhost:8080/"
        },
        "id": "igtimySr3ET7",
        "outputId": "50eddc56-76b8-463c-eec1-925d32ba33f7"
      },
      "execution_count": null,
      "outputs": [
        {
          "output_type": "stream",
          "name": "stdout",
          "text": [
            "-3\n"
          ]
        }
      ]
    },
    {
      "cell_type": "markdown",
      "source": [
        "6. Write a Python program to count the number of strings from a given list of\n",
        "strings.\n"
      ],
      "metadata": {
        "id": "40U_UvmlGi_K"
      }
    },
    {
      "cell_type": "code",
      "source": [
        "list = [\"AI\", \"NLP\", \"CL\", \"AI\", \"AI\"]\n",
        "x= list.count(\"AI\")\n",
        "print(x)"
      ],
      "metadata": {
        "colab": {
          "base_uri": "https://localhost:8080/"
        },
        "id": "o_WX8udb9iuW",
        "outputId": "72020393-f07e-4aaa-dc43-da3777c6d346"
      },
      "execution_count": null,
      "outputs": [
        {
          "output_type": "stream",
          "name": "stdout",
          "text": [
            "3\n"
          ]
        }
      ]
    },
    {
      "cell_type": "markdown",
      "source": [
        "7. Write a Python program to clone or copy a list"
      ],
      "metadata": {
        "id": "rFVovRjvGmcQ"
      }
    },
    {
      "cell_type": "code",
      "source": [
        "list = [\"AI\", \"NLP\", \"CL\", \"AI\", \"AI\"]\n",
        "x= list.copy()\n",
        "print(x)\n"
      ],
      "metadata": {
        "colab": {
          "base_uri": "https://localhost:8080/"
        },
        "id": "DM3b5uQWBWkC",
        "outputId": "4f7ccf10-9467-47d1-f5eb-e43d1335c304"
      },
      "execution_count": null,
      "outputs": [
        {
          "output_type": "stream",
          "name": "stdout",
          "text": [
            "['AI', 'NLP', 'CL', 'AI', 'AI']\n"
          ]
        }
      ]
    },
    {
      "cell_type": "markdown",
      "source": [
        "8. Write a Python program to remove item(s) from a given set.\n"
      ],
      "metadata": {
        "id": "q7u1l4LDGrij"
      }
    },
    {
      "cell_type": "code",
      "source": [
        "list = [1, 3, 4, 5]\n",
        "list.remove(1)\n",
        "print(list)"
      ],
      "metadata": {
        "colab": {
          "base_uri": "https://localhost:8080/"
        },
        "id": "HO5q7gEitDEw",
        "outputId": "c8018e64-7b05-4e47-9fb6-5235702ef004"
      },
      "execution_count": null,
      "outputs": [
        {
          "output_type": "stream",
          "name": "stdout",
          "text": [
            "[3, 4, 5]\n"
          ]
        }
      ]
    },
    {
      "cell_type": "code",
      "source": [
        "thislist = [\"AI\", \"ML\", \"NLP\"]\n",
        "thislist.pop (0)\n",
        "print(thislist)"
      ],
      "metadata": {
        "colab": {
          "base_uri": "https://localhost:8080/"
        },
        "id": "HC40KEVWuYS9",
        "outputId": "2b4df027-c536-4228-be62-c5e6e304edb9"
      },
      "execution_count": null,
      "outputs": [
        {
          "output_type": "stream",
          "name": "stdout",
          "text": [
            "['ML', 'NLP']\n"
          ]
        }
      ]
    },
    {
      "cell_type": "code",
      "source": [
        "thislist = [1, 2, 3, 4]\n",
        "del thislist [-1]\n",
        "print(thislist)"
      ],
      "metadata": {
        "colab": {
          "base_uri": "https://localhost:8080/"
        },
        "id": "vlB86ZAxwRDs",
        "outputId": "e0988ad2-7a69-460f-a66c-0cda2853a4c4"
      },
      "execution_count": null,
      "outputs": [
        {
          "output_type": "stream",
          "name": "stdout",
          "text": [
            "[1, 2, 3]\n"
          ]
        }
      ]
    },
    {
      "cell_type": "markdown",
      "source": [
        "9. Write a Python program to check if a set is a subset of another set.\n"
      ],
      "metadata": {
        "id": "XP9tdf3XGsU6"
      }
    },
    {
      "cell_type": "code",
      "source": [
        "set1 = {\"AI\", \"NLP\", \"CL\", \"ML\"}\n",
        "set2 ={\"CL\", \"NLP\"}\n",
        "set3= set2.issubset(set1)\n",
        "print(set3)\n"
      ],
      "metadata": {
        "colab": {
          "base_uri": "https://localhost:8080/"
        },
        "id": "2MwJHWAH34GB",
        "outputId": "9e3f65af-7868-4fbf-b52a-17a8b9f1e8de"
      },
      "execution_count": null,
      "outputs": [
        {
          "output_type": "stream",
          "name": "stdout",
          "text": [
            "True\n"
          ]
        }
      ]
    },
    {
      "cell_type": "code",
      "source": [
        "set1 = {\"AI\", \"NLP\", \"CL\", \"ML\"}\n",
        "set2 ={\"CL\", \"NLP\"}\n",
        "set3= set2 <= set1\n",
        "print(set3)"
      ],
      "metadata": {
        "colab": {
          "base_uri": "https://localhost:8080/"
        },
        "id": "jtx-3nbV7HVM",
        "outputId": "9967ecff-0ba9-4326-ead1-5ced93c70108"
      },
      "execution_count": null,
      "outputs": [
        {
          "output_type": "stream",
          "name": "stdout",
          "text": [
            "True\n"
          ]
        }
      ]
    },
    {
      "cell_type": "markdown",
      "source": [
        "10. Write a Python program to remove all elements from a given set.\n"
      ],
      "metadata": {
        "id": "-zuUm2KOGwzy"
      }
    },
    {
      "cell_type": "code",
      "source": [
        "list = [1, 2, 3, 4]\n",
        "x= list.clear ()\n",
        "print(x)"
      ],
      "metadata": {
        "colab": {
          "base_uri": "https://localhost:8080/"
        },
        "id": "1YvOhUX0wxUp",
        "outputId": "127d66f5-a4ac-4f9f-c7ca-8b09e03609c8"
      },
      "execution_count": null,
      "outputs": [
        {
          "output_type": "stream",
          "name": "stdout",
          "text": [
            "None\n"
          ]
        }
      ]
    },
    {
      "cell_type": "code",
      "source": [
        "list = [\"AI\", \"CL\"]\n",
        "del list\n",
        "print(list)"
      ],
      "metadata": {
        "colab": {
          "base_uri": "https://localhost:8080/"
        },
        "id": "bvROwlbZCsuC",
        "outputId": "0f323673-8dbe-4be7-c5f2-be4b7b8fa046"
      },
      "execution_count": null,
      "outputs": [
        {
          "output_type": "stream",
          "name": "stdout",
          "text": [
            "<class 'list'>\n"
          ]
        }
      ]
    },
    {
      "cell_type": "markdown",
      "source": [
        "11. Write a Python program to find the maximum and minimum values in a set."
      ],
      "metadata": {
        "id": "cTRaxb8PGzZh"
      }
    },
    {
      "cell_type": "code",
      "source": [
        "set= {1.5, 2.2, 3.4, 2.4}\n",
        "print(max(set))\n",
        "print(min(set))"
      ],
      "metadata": {
        "colab": {
          "base_uri": "https://localhost:8080/"
        },
        "id": "IA_JopEb1UrL",
        "outputId": "c7e32f03-65af-43d3-b0c3-4c74c9be4ab5"
      },
      "execution_count": null,
      "outputs": [
        {
          "output_type": "stream",
          "name": "stdout",
          "text": [
            "3.4\n",
            "1.5\n"
          ]
        }
      ]
    },
    {
      "cell_type": "markdown",
      "source": [
        "12. Write a Python program to find the index of an item in a tuple."
      ],
      "metadata": {
        "id": "4LRzGeG8G2wm"
      }
    },
    {
      "cell_type": "code",
      "source": [
        "tuple = (\"AI\", \"NLP\", \"CL\")\n",
        "print(tuple[-1])"
      ],
      "metadata": {
        "colab": {
          "base_uri": "https://localhost:8080/"
        },
        "id": "BGLv5YsTa-fG",
        "outputId": "cbdf88f8-869e-473b-8149-a8be2c704f85"
      },
      "execution_count": null,
      "outputs": [
        {
          "output_type": "stream",
          "name": "stdout",
          "text": [
            "CL\n"
          ]
        }
      ]
    },
    {
      "cell_type": "code",
      "source": [
        "tuple = (\"AI\", \"CL\", \"NLP\")\n",
        "x =tuple.index(\"AI\")\n",
        "print(x)"
      ],
      "metadata": {
        "colab": {
          "base_uri": "https://localhost:8080/"
        },
        "id": "cukZO56zcExy",
        "outputId": "88ab11fc-1603-46a3-8add-496e28fc77b1"
      },
      "execution_count": null,
      "outputs": [
        {
          "output_type": "stream",
          "name": "stdout",
          "text": [
            "0\n"
          ]
        }
      ]
    },
    {
      "cell_type": "markdown",
      "source": [
        "13. Write a Python program to convert a tuple to a dictionary."
      ],
      "metadata": {
        "id": "CtZAoToUG8Gr"
      }
    },
    {
      "cell_type": "code",
      "source": [
        "thistuple = ((\"apple\", 0), (\"cherry\", 1), (\"kiwi\", 2))\n",
        "dictionary = dict(thistuple)\n",
        "print(\"dictionary is\", dictionary)"
      ],
      "metadata": {
        "colab": {
          "base_uri": "https://localhost:8080/"
        },
        "id": "mNBKT6padXZX",
        "outputId": "ddb29f4c-bfbb-44b4-b395-fd364b47dc01"
      },
      "execution_count": null,
      "outputs": [
        {
          "output_type": "stream",
          "name": "stdout",
          "text": [
            "dictionary is {'apple': 0, 'cherry': 1, 'kiwi': 2}\n"
          ]
        }
      ]
    },
    {
      "cell_type": "code",
      "source": [],
      "metadata": {
        "id": "_ABiwLuGLUM-"
      },
      "execution_count": null,
      "outputs": []
    },
    {
      "cell_type": "markdown",
      "source": [
        "14. Write a Python program to unzip a list of tuples into individual lists."
      ],
      "metadata": {
        "id": "Meyh5ZiEG_fX"
      }
    },
    {
      "cell_type": "code",
      "source": [
        "Tuples = [(1, 2), (3, 4), (8, 9)]\n",
        "print(*Tuples)"
      ],
      "metadata": {
        "colab": {
          "base_uri": "https://localhost:8080/"
        },
        "id": "d3Vy4vAgF0Vg",
        "outputId": "eca7da20-a6b6-4a92-b1d7-bcac305717af"
      },
      "execution_count": 3,
      "outputs": [
        {
          "output_type": "stream",
          "name": "stdout",
          "text": [
            "(1, 2) (3, 4) (8, 9)\n"
          ]
        }
      ]
    },
    {
      "cell_type": "code",
      "source": [
        "l = [(1, 2), (3, 4), (8, 9)]\n",
        "def unzip(a,b,c):\n",
        "  return list(zip(a,b,c))\n",
        "unzip(*l)"
      ],
      "metadata": {
        "colab": {
          "base_uri": "https://localhost:8080/"
        },
        "id": "fZwfeT5s4nYm",
        "outputId": "eff41c4a-a9f3-49f2-879d-c381331b3283"
      },
      "execution_count": null,
      "outputs": [
        {
          "output_type": "execute_result",
          "data": {
            "text/plain": [
              "[(1, 3, 8), (2, 4, 9)]"
            ]
          },
          "metadata": {},
          "execution_count": 31
        }
      ]
    },
    {
      "cell_type": "code",
      "source": [
        "a = (1, 2)\n",
        "b = (3, 4)\n",
        "c=(8, 9)\n",
        "\n",
        "x = zip(a, b,c)\n",
        "print(list(x))"
      ],
      "metadata": {
        "colab": {
          "base_uri": "https://localhost:8080/"
        },
        "id": "jqTF9eHq4uE1",
        "outputId": "8cb2ba13-4a00-454c-9331-76e07babd91f"
      },
      "execution_count": null,
      "outputs": [
        {
          "output_type": "stream",
          "name": "stdout",
          "text": [
            "[(1, 3, 8), (2, 4, 9)]\n"
          ]
        }
      ]
    },
    {
      "cell_type": "code",
      "source": [
        "fruits = (\"apple\", \"banana\", \"cherry\")\n",
        "\n",
        "(green, yellow, red) = fruits\n",
        "\n",
        "print(green)\n",
        "print(yellow)\n",
        "print(red)"
      ],
      "metadata": {
        "colab": {
          "base_uri": "https://localhost:8080/"
        },
        "id": "82BuZHwrmnYd",
        "outputId": "fbc01467-2bbd-47db-db0a-183642386015"
      },
      "execution_count": null,
      "outputs": [
        {
          "output_type": "stream",
          "name": "stdout",
          "text": [
            "apple\n",
            "banana\n",
            "cherry\n"
          ]
        }
      ]
    },
    {
      "cell_type": "markdown",
      "source": [
        "15. Write a Python program to reverse a tuple.\n"
      ],
      "metadata": {
        "id": "g8gtkL30HBvJ"
      }
    },
    {
      "cell_type": "code",
      "source": [
        "tuple1= (\"AI\", \"NLP\", \"CL\")\n",
        "X = list(tuple1)\n",
        "X.reverse()\n",
        "tuple1= (X)\n",
        "print(tuple1)"
      ],
      "metadata": {
        "colab": {
          "base_uri": "https://localhost:8080/"
        },
        "id": "4CsrP4_nnSgr",
        "outputId": "98a0f821-cb9f-4678-b32f-1aee47018cbf"
      },
      "execution_count": null,
      "outputs": [
        {
          "output_type": "stream",
          "name": "stdout",
          "text": [
            "['CL', 'NLP', 'AI']\n"
          ]
        }
      ]
    },
    {
      "cell_type": "markdown",
      "source": [
        "16. Write a Python program to convert a list of tuples into a dictionary"
      ],
      "metadata": {
        "id": "KkncSmHsHExC"
      }
    },
    {
      "cell_type": "code",
      "source": [
        "list_of_tuples = [(\"AI\", 1), (\"NLP\", 2), (\"CL\", 3)]\n",
        "\n",
        "dict = {key: value for key, value in list_of_tuples}\n",
        "\n",
        "print(\"Dictionary:\", dict)"
      ],
      "metadata": {
        "colab": {
          "base_uri": "https://localhost:8080/"
        },
        "id": "dJ0dySekSdxL",
        "outputId": "c4abe557-7b42-44a7-cbfc-5dbcd9c8a081"
      },
      "execution_count": null,
      "outputs": [
        {
          "output_type": "stream",
          "name": "stdout",
          "text": [
            "Dictionary: {'AI': 1, 'NLP': 2, 'CL': 3}\n"
          ]
        }
      ]
    },
    {
      "cell_type": "markdown",
      "source": [
        "17. Write a Python program to replace the last value of tuples in a list.\n",
        "Sample list: [(10, 20, 40), (40, 50, 60), (70, 80, 90)]\n",
        "Expected Output: [(10, 20, 100), (40, 50, 100), (70, 80, 100)"
      ],
      "metadata": {
        "id": "aJHDa53_HHPb"
      }
    },
    {
      "cell_type": "code",
      "source": [
        "sample_list = [(10, 20, 40), (40, 50, 60), (70, 80, 90)]\n",
        "output_list=[]\n",
        "for x, y, z in sample_list:\n",
        "  print(x, y, z)\n",
        "  output_list.append((x,y,100))\n",
        "print(output_list)\n"
      ],
      "metadata": {
        "colab": {
          "base_uri": "https://localhost:8080/"
        },
        "id": "GfB9ZYVK_T4B",
        "outputId": "a32710c4-b1ee-491d-c726-ba5a3adc49ec"
      },
      "execution_count": null,
      "outputs": [
        {
          "output_type": "stream",
          "name": "stdout",
          "text": [
            "10 20 40\n",
            "40 50 60\n",
            "70 80 90\n",
            "[(70, 80, 100)]\n"
          ]
        }
      ]
    },
    {
      "cell_type": "markdown",
      "source": [
        "18. Write a Python program to sort a tuple by its float element."
      ],
      "metadata": {
        "id": "7NrxWQ-EHLuU"
      }
    },
    {
      "cell_type": "code",
      "source": [
        "thistuple= (2.5, 2.6, 2.3, 2.2)\n",
        "thislist= list(thistuple)\n",
        "thislist.sort()\n",
        "thistuple= tuple(thislist)\n",
        "print(thistuple)"
      ],
      "metadata": {
        "colab": {
          "base_uri": "https://localhost:8080/"
        },
        "id": "uOxz_VT8EkuB",
        "outputId": "8e2d76ce-65b8-4936-b037-34ac6251cff6"
      },
      "execution_count": null,
      "outputs": [
        {
          "output_type": "stream",
          "name": "stdout",
          "text": [
            "(2.2, 2.3, 2.5, 2.6)\n"
          ]
        }
      ]
    }
  ]
}